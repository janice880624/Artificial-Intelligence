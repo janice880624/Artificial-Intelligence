{
 "cells": [
  {
   "cell_type": "code",
   "execution_count": 1,
   "metadata": {},
   "outputs": [],
   "source": [
    "import numpy as np \n",
    "import pandas as pd \n",
    "import seaborn as sns\n",
    "import matplotlib.pyplot as plt\n",
    "\n",
    "from IPython.display import display"
   ]
  },
  {
   "cell_type": "code",
   "execution_count": 19,
   "metadata": {},
   "outputs": [],
   "source": [
    "def get_data():\n",
    "    data = np.loadtxt(\"iris.txt\")\n",
    "    iris_data = data[50:]\n",
    "    return iris_data\n",
    "\n",
    "def get_train_and_test(feature):\n",
    "    iris_data = get_data()\n",
    "\n",
    "    positive_data = iris_data[:50, feature]\n",
    "    positive_data = np.expand_dims(positive_data, axis=2)\n",
    "\n",
    "    negative_data = iris_data[50:, feature]\n",
    "    negative_data = np.expand_dims(negative_data, axis=2)\n",
    "\n",
    "    train_data_positive = positive_data[:25]\n",
    "    train_data_negative = negative_data[:25]\n",
    "\n",
    "    test_data_positive = positive_data[25:]\n",
    "    test_data_negative = negative_data[25:]\n",
    "\n",
    "    train_data = np.concatenate((train_data_positive, train_data_negative), axis=0)\n",
    "    test_data = np.concatenate((test_data_positive, test_data_negative), axis=0)\n",
    "\n",
    "    train_label = [1] * len(train_data_positive) + [-1] * len(train_data_negative)\n",
    "    test_label = [1] * len(test_data_positive) + [-1] * len(test_data_negative)\n",
    "\n",
    "    train_label_plot = ['positive'] * len(train_data_positive) + ['negative'] * len(train_data_negative)\n",
    "    test_label_plot = ['positive'] * len(test_data_positive) + ['negative'] * len(test_data_negative)\n",
    "\n",
    "    return(train_data, test_data, train_label, test_label, train_data_positive, train_data_negative, test_data_positive, test_data_negative, train_label_plot, test_label_plot)\n",
    "\n",
    "def get_test_and_train(feature):\n",
    "    iris_data = get_data()\n",
    "\n",
    "    positive_data = iris_data[:50, feature]\n",
    "    positive_data = np.expand_dims(positive_data, axis=2)\n",
    "\n",
    "    negative_data = iris_data[50:, feature]\n",
    "    negative_data = np.expand_dims(negative_data, axis=2)\n",
    "\n",
    "    train_data_positive = positive_data[25:]\n",
    "    train_data_negative = negative_data[25:]\n",
    "\n",
    "    test_data_positive = positive_data[:25]\n",
    "    test_data_negative = negative_data[:25]\n",
    "\n",
    "    train_data = np.concatenate((train_data_positive, train_data_negative), axis=0)\n",
    "    test_data = np.concatenate((test_data_positive, test_data_negative), axis=0)\n",
    "\n",
    "    train_label = [1] * len(train_data_positive) + [-1] * len(train_data_negative)\n",
    "    test_label = [1] * len(test_data_positive) + [-1] * len(test_data_negative)\n",
    "\n",
    "    train_label_plot = ['positive'] * len(train_data_positive) + ['negative'] * len(train_data_negative)\n",
    "    test_label_plot = ['positive'] * len(test_data_positive) + ['negative'] * len(test_data_negative)\n",
    "\n",
    "    return(train_data, test_data, train_label, test_label, train_label_plot, test_label_plot, train_data_positive, train_data_negative, test_data_positive, test_data_negative)\n",
    "\n"
   ]
  },
  {
   "cell_type": "code",
   "execution_count": 20,
   "metadata": {},
   "outputs": [],
   "source": [
    "feature = [2, 3]\n",
    "\n",
    "train_data, test_data, train_label, test_label, train_data_positive, train_data_negative, test_data_positive, test_data_negative, train_label_plot, test_label_plot = get_train_and_test(feature)"
   ]
  },
  {
   "cell_type": "code",
   "execution_count": 21,
   "metadata": {},
   "outputs": [
    {
     "output_type": "stream",
     "name": "stdout",
     "text": "alpha:\n    0.0\n    0.0\n    3.2049\n    0.0\n    0.0\n    0.0\n    6.1109\n    0.0\n    0.0\n    0.0\n----------\n    0.0\n    0.0\n    0.0\n    0.0\n    0.0\n    0.0\n    0.0\n    0.0\n    0.0\n    0.0\n----------\n    10.0\n    0.0\n    3.2055\n    2.0531\n    0.0\n    0.0\n    0.0\n    0.0\n    0.0\n    0.0\n----------\n    0.0\n    10.0\n    0.0\n    0.0\n    0.0\n    0.0\n    0.0\n    0.0\n    0.0\n    0.0\n----------\n    0.0\n    0.0\n    0.0\n    0.0\n    10.0\n    0.0\n    0.0\n    0.0\n    4.5744\n    0.0\n----------\nbias:\n    5.162728510797024\n"
    }
   ],
   "source": [
    "# step 3: get alpha and bias(see ./svm.PolynomialSVM())\n",
    "\n",
    "from svm import PolynomialSVM\n",
    "\n",
    "polynomial_svm = PolynomialSVM()\n",
    "polynomial_svm.fit(train_data, train_label)\n",
    "\n",
    "alpha = polynomial_svm.alpha\n",
    "bias = polynomial_svm.bias\n",
    "\n",
    "print('alpha:')\n",
    "for index in range(len(alpha)):\n",
    "    print('    {}'.format(round(alpha[index][0], 4)))\n",
    "    if((index+1)%10==0):\n",
    "        print(\"----------\")\n",
    "\n",
    "print('bias:\\n    {}'.format(bias[0, 0]))"
   ]
  },
  {
   "cell_type": "code",
   "execution_count": 22,
   "metadata": {},
   "outputs": [],
   "source": [
    "feature = [2, 3]\n",
    "\n",
    "train_data, test_data, train_label, test_label, train_data_positive, train_data_negative, test_data_positive, test_data_negative, train_label_plot, test_label_plot = get_test_and_train(feature)"
   ]
  },
  {
   "cell_type": "code",
   "execution_count": 23,
   "metadata": {},
   "outputs": [
    {
     "output_type": "stream",
     "name": "stdout",
     "text": "alpha:\n    0.0\n    0.0024\n    0.0\n    0.0\n    0.0\n    0.0\n    0.0\n    0.0\n    1.2488\n    0.0\n----------\n    0.0\n    0.0\n    0.0\n    0.0\n    0.0\n    0.0\n    0.0\n    0.0\n    0.0\n    0.0\n----------\n    0.0\n    0.0\n    0.0\n    0.0\n    0.0\n    0.0\n    0.0\n    0.0\n    0.0\n    0.0\n----------\n    0.0\n    0.0\n    0.0\n    0.8491\n    0.0\n    0.0\n    0.0\n    0.0\n    0.0\n    0.0\n----------\n    0.0\n    0.0\n    0.0\n    0.0\n    0.0\n    0.0\n    0.0\n    0.0\n    0.0\n    0.402\n----------\nbias:\n    9.68717775301775\n"
    }
   ],
   "source": [
    "# step 3: get alpha and bias(see ./svm.PolynomialSVM())\n",
    "\n",
    "from svm import PolynomialSVM\n",
    "\n",
    "polynomial_svm = PolynomialSVM()\n",
    "polynomial_svm.fit(train_data, train_label)\n",
    "\n",
    "alpha = polynomial_svm.alpha\n",
    "bias = polynomial_svm.bias\n",
    "\n",
    "print('alpha:')\n",
    "for index in range(len(alpha)):\n",
    "    print('    {}'.format(round(alpha[index][0], 4)))\n",
    "    if((index+1)%10==0):\n",
    "        print(\"----------\")\n",
    "print('bias:\\n    {}'.format(bias[0, 0]))"
   ]
  },
  {
   "cell_type": "code",
   "execution_count": null,
   "metadata": {},
   "outputs": [],
   "source": []
  }
 ],
 "metadata": {
  "language_info": {
   "codemirror_mode": {
    "name": "ipython",
    "version": 3
   },
   "file_extension": ".py",
   "mimetype": "text/x-python",
   "name": "python",
   "nbconvert_exporter": "python",
   "pygments_lexer": "ipython3",
   "version": "3.6.8-final"
  },
  "orig_nbformat": 2,
  "kernelspec": {
   "name": "python36564bit3834bea6c78e49f6ab837f3a72fca529",
   "display_name": "Python 3.6.5 64-bit"
  }
 },
 "nbformat": 4,
 "nbformat_minor": 2
}