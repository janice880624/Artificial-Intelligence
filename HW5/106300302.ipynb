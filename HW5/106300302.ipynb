{
 "cells": [
  {
   "cell_type": "code",
   "execution_count": 1,
   "metadata": {},
   "outputs": [],
   "source": [
    "# load package\n",
    "import pandas as pd\n",
    "import numpy as np\n",
    "import matplotlib.pyplot as plt \n",
    "import seaborn as sns"
   ]
  },
  {
   "cell_type": "code",
   "execution_count": 4,
   "metadata": {},
   "outputs": [],
   "source": [
    "# load data\n",
    "path=r'Iris.csv'\n",
    "df = pd.read_csv(path, header=0)\n",
    "Iris1 = df.values[0:50,1:5]\n",
    "Iris2 = df.values[50:100,1:5]\n",
    "Iris3 = df.values[100:150,1:5]"
   ]
  },
  {
   "cell_type": "code",
   "execution_count": 6,
   "metadata": {},
   "outputs": [],
   "source": [
    "# mean vector\n",
    "m1 = np.mean(Iris1,axis=0)\n",
    "m2 = np.mean(Iris2,axis=0)\n",
    "m3 = np.mean(Iris3,axis=0)"
   ]
  },
  {
   "cell_type": "code",
   "execution_count": 19,
   "metadata": {},
   "outputs": [],
   "source": [
    "# cal within class scatter\n",
    "s1, s2, s3 = np.zeros((4,4)), np.zeros((4,4)), np.zeros((4,4))\n",
    "\n",
    "for i in range(0,30,1):\n",
    "    a = Iris1[i,:] - m1\n",
    "    a = np.array([a])\n",
    "    b = a.T\n",
    "    s1 = s1 + np.dot(b,a) \n",
    " \n",
    "for i in range(0,30,1):\n",
    "    c = Iris2[i,:] - m2\n",
    "    c = np.array([c])\n",
    "    d = c.T\n",
    "    s2 = s2 + np.dot(d,c) \n",
    "\n",
    "for i in range(0,30,1):\n",
    "    a = Iris3[i,:] - m3\n",
    "    a = np.array([a])\n",
    "    b = a.T\n",
    "    s3 = s3 + np.dot(b,a)\n",
    "\n",
    "sw12 = s1+s2\n",
    "sw13 = s1+s3\n",
    "sw23 = s2+s3"
   ]
  },
  {
   "cell_type": "code",
   "execution_count": 15,
   "metadata": {},
   "outputs": [],
   "source": [
    "# 投影\n",
    "a = np.array([m1-m2])\n",
    "sw12 = np.array(sw12,dtype='float')\n",
    "sw13 = np.array(sw13,dtype='float')\n",
    "sw23 = np.array(sw23,dtype='float')"
   ]
  },
  {
   "cell_type": "code",
   "execution_count": 17,
   "metadata": {
    "tags": []
   },
   "outputs": [
    {
     "output_type": "stream",
     "name": "stdout",
     "text": "样本类内离散度矩阵S1： [[12.094440000000004 8.849519999999998 1.5813600000000008\n  1.3929599999999998]\n [8.849519999999998 10.757160000000002 0.17687999999999895\n  1.6876800000000003]\n [1.5813600000000008 0.17687999999999895 3.0038400000000003\n  0.5042399999999999]\n [1.3929599999999998 1.6876800000000003 0.5042399999999999\n  0.884639999999999]] \n\n样本类内离散度矩阵S2： [[9.181679999999998 3.0413999999999977 5.8948000000000045\n  1.7678800000000006]\n [3.0413999999999977 3.1389999999999993 2.514 1.3023999999999996]\n [5.8948000000000045 2.514 6.288000000000002 2.1768000000000005]\n [1.7678800000000006 1.3023999999999996 2.1768000000000005\n  1.3170800000000003]] \n\n样本类内离散度矩阵S3： [[13.762319999999999 3.172359999999998 11.374480000000005\n  1.2660399999999994]\n [3.172359999999998 3.2962799999999994 2.4840399999999994\n  1.3869199999999993]\n [11.374480000000005 2.4840399999999994 11.468720000000005\n  1.7695600000000002]\n [1.2660399999999994 1.3869199999999993 1.7695600000000002\n  1.9098799999999994]] \n\n-----------------------------------------------------------------------------------------------\n总体类内离散度矩阵Sw12： [[21.27612 11.89092  7.47616  3.16084]\n [11.89092 13.89616  2.69088  2.99008]\n [ 7.47616  2.69088  9.29184  2.68104]\n [ 3.16084  2.99008  2.68104  2.20172]] \n\n总体类内离散度矩阵Sw13： [[25.85676 12.02188 12.95584  2.659  ]\n [12.02188 14.05344  2.66092  3.0746 ]\n [12.95584  2.66092 14.47256  2.2738 ]\n [ 2.659    3.0746   2.2738   2.79452]] \n\n总体类内离散度矩阵Sw23： [[22.944    6.21376 17.26928  3.03392]\n [ 6.21376  6.43528  4.99804  2.68932]\n [17.26928  4.99804 17.75672  3.94636]\n [ 3.03392  2.68932  3.94636  3.22696]] \n\n-----------------------------------------------------------------------------------------------\n判断出来的综合正确率： 93.33333333333333 %\n"
    }
   ],
   "source": [
    "#判别函数以及T\n",
    "#需要先将m1-m2转化成矩阵才能进行求其转置矩阵\n",
    "a = m1-m2\n",
    "a = np.array([a])\n",
    "a = a.T\n",
    "\n",
    "b = m1-m3\n",
    "b = np.array([b])\n",
    "b = b.T\n",
    "\n",
    "c = m2-m3\n",
    "c = np.array([c])\n",
    "c = c.T\n",
    "\n",
    "w12 = (np.dot(np.linalg.inv(sw12),a)).T\n",
    "w13 = (np.dot(np.linalg.inv(sw13),b)).T\n",
    "w23 = (np.dot(np.linalg.inv(sw23),c)).T\n",
    "\n",
    "#print(m1+m2) #1x4维度  invsw12 4x4维度  m1-m2 4x1维度\n",
    "T12=-0.5*(np.dot(np.dot((m1+m2),np.linalg.inv(sw12)),a))\n",
    "T13=-0.5*(np.dot(np.dot((m1+m3),np.linalg.inv(sw13)),b))\n",
    "T23=-0.5*(np.dot(np.dot((m2+m3),np.linalg.inv(sw23)),c))\n",
    "\n",
    "kind1=0\n",
    "kind2=0\n",
    "kind3=0\n",
    "\n",
    "newiris1=[]\n",
    "newiris2=[]\n",
    "newiris3=[]\n",
    "\n",
    "for i in range(30,49):\n",
    "    x=Iris1[i,:]\n",
    "    x=np.array([x])\n",
    "    g12=np.dot(w12,x.T)+T12\n",
    "    g13=np.dot(w13,x.T)+T13\n",
    "    g23=np.dot(w23,x.T)+T23\n",
    "    if g12>0 and g13>0:\n",
    "        newiris1.extend(x)\n",
    "        kind1=kind1+1\n",
    "    elif g12<0 and g23>0:\n",
    "        newiris2.extend(x)\n",
    "    elif g13<0 and g23<0 :\n",
    "        newiris3.extend(x)\n",
    "#print(newiris1)\n",
    "\n",
    "for i in range(30,49):\n",
    "    x=Iris2[i,:]\n",
    "    x=np.array([x])\n",
    "    g12=np.dot(w12,x.T)+T12\n",
    "    g13=np.dot(w13,x.T)+T13\n",
    "    g23=np.dot(w23,x.T)+T23\n",
    "    if g12>0 and g13>0:\n",
    "        newiris1.extend(x)\n",
    "    elif g12<0 and g23>0:\n",
    "        newiris2.extend(x)\n",
    "        kind2=kind2+1\n",
    "    elif g13<0 and g23<0 :\n",
    "        newiris3.extend(x)\n",
    "\n",
    "for i in range(30,50):\n",
    "    x=Iris3[i,:]\n",
    "    x=np.array([x])\n",
    "    g12=np.dot(w12,x.T)+T12\n",
    "    g13=np.dot(w13,x.T)+T13\n",
    "    g23=np.dot(w23,x.T)+T23\n",
    "    if g12>0 and g13>0:\n",
    "        newiris1.extend(x)\n",
    "    elif g12<0 and g23>0:     \n",
    "        newiris2.extend(x)\n",
    "    elif g13<0 and g23<0 :\n",
    "        newiris3.extend(x)\n",
    "        kind3=kind3+1\n",
    "\n",
    "correct=(kind1+kind2+kind3)/60\n",
    "\n",
    "print(\"样本类内离散度矩阵S1：\",s1,'\\n')\n",
    "print(\"样本类内离散度矩阵S2：\",s2,'\\n')\n",
    "print(\"样本类内离散度矩阵S3：\",s3,'\\n')\n",
    "print('-----------------------------------------------------------------------------------------------')\n",
    "print(\"总体类内离散度矩阵Sw12：\",sw12,'\\n')\n",
    "print(\"总体类内离散度矩阵Sw13：\",sw13,'\\n')\n",
    "print(\"总体类内离散度矩阵Sw23：\",sw23,'\\n')\n",
    "print('-----------------------------------------------------------------------------------------------')\n",
    "print('判断出来的综合正确率：',correct*100,'%')\n"
   ]
  },
  {
   "cell_type": "code",
   "execution_count": null,
   "metadata": {},
   "outputs": [],
   "source": []
  }
 ],
 "metadata": {
  "language_info": {
   "codemirror_mode": {
    "name": "ipython",
    "version": 3
   },
   "file_extension": ".py",
   "mimetype": "text/x-python",
   "name": "python",
   "nbconvert_exporter": "python",
   "pygments_lexer": "ipython3",
   "version": "3.7.0-final"
  },
  "orig_nbformat": 2,
  "kernelspec": {
   "name": "python37064bit8ea0403aa30c41bf9579bcc389f3fb8f",
   "display_name": "Python 3.7.0 64-bit"
  }
 },
 "nbformat": 4,
 "nbformat_minor": 2
}